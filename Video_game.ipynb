{
 "cells": [
  {
   "cell_type": "markdown",
   "metadata": {},
   "source": [
    "# Video Game Sales Prediction\n",
    "\n",
    "### Top 12% Finish (Out of 404 participants)\n",
    "\n",
    "This is from a machine learning competition organized by Machine Hack to build a model that accurately predicts the sales in millions for a Video game\n",
    "\n",
    "Competition link:\n",
    "\n",
    "https://www.machinehack.com/hackathons/5ef5dcfff86bc10bcd96d915\n",
    "\n",
    "#### Response Variable: SalesInMillions\n",
    "#### Evaluation Metric: RMSE"
   ]
  },
  {
   "cell_type": "code",
   "execution_count": 1,
   "metadata": {},
   "outputs": [],
   "source": [
    "# Set working path\n",
    "setwd(\"E:\\\\Machine Hack\\\\Video Game Sales Prediction\")"
   ]
  },
  {
   "cell_type": "code",
   "execution_count": 2,
   "metadata": {},
   "outputs": [
    {
     "name": "stderr",
     "output_type": "stream",
     "text": [
      "\n",
      "Attaching package: 'dplyr'\n",
      "\n",
      "\n",
      "The following objects are masked from 'package:stats':\n",
      "\n",
      "    filter, lag\n",
      "\n",
      "\n",
      "The following objects are masked from 'package:base':\n",
      "\n",
      "    intersect, setdiff, setequal, union\n",
      "\n",
      "\n",
      "Loading required package: lattice\n",
      "\n",
      "Loading required package: ggplot2\n",
      "\n",
      "\n",
      "Attaching package: 'Metrics'\n",
      "\n",
      "\n",
      "The following objects are masked from 'package:caret':\n",
      "\n",
      "    precision, recall\n",
      "\n",
      "\n",
      "\n",
      "Attaching package: 'MLmetrics'\n",
      "\n",
      "\n",
      "The following objects are masked from 'package:caret':\n",
      "\n",
      "    MAE, RMSE\n",
      "\n",
      "\n",
      "The following object is masked from 'package:base':\n",
      "\n",
      "    Recall\n",
      "\n",
      "\n"
     ]
    }
   ],
   "source": [
    "# Load libraries\n",
    "suppressWarnings(library(dplyr))\n",
    "suppressWarnings(library(caret))\n",
    "suppressWarnings(library(Metrics))\n",
    "suppressWarnings(library(MLmetrics))"
   ]
  },
  {
   "cell_type": "code",
   "execution_count": 3,
   "metadata": {},
   "outputs": [],
   "source": [
    "# Load dataset\n",
    "\n",
    "tr <- read.csv(\"Train.csv\",stringsAsFactors = F)\n",
    "te <- read.csv(\"Test.csv\",stringsAsFactors = F)"
   ]
  },
  {
   "cell_type": "code",
   "execution_count": 4,
   "metadata": {},
   "outputs": [
    {
     "data": {
      "text/html": [
       "<style>\n",
       ".dl-inline {width: auto; margin:0; padding: 0}\n",
       ".dl-inline>dt, .dl-inline>dd {float: none; width: auto; display: inline-block}\n",
       ".dl-inline>dt::after {content: \":\\0020\"; padding-right: .5ex}\n",
       ".dl-inline>dt:not(:first-of-type) {padding-left: .5ex}\n",
       "</style><dl class=dl-inline><dt>ID</dt><dd>0</dd><dt>CONSOLE</dt><dd>0</dd><dt>YEAR</dt><dd>0</dd><dt>CATEGORY</dt><dd>0</dd><dt>PUBLISHER</dt><dd>0</dd><dt>RATING</dt><dd>0</dd><dt>CRITICS_POINTS</dt><dd>0</dd><dt>USER_POINTS</dt><dd>0</dd><dt>SalesInMillions</dt><dd>0</dd></dl>\n"
      ],
      "text/latex": [
       "\\begin{description*}\n",
       "\\item[ID] 0\n",
       "\\item[CONSOLE] 0\n",
       "\\item[YEAR] 0\n",
       "\\item[CATEGORY] 0\n",
       "\\item[PUBLISHER] 0\n",
       "\\item[RATING] 0\n",
       "\\item[CRITICS\\textbackslash{}\\_POINTS] 0\n",
       "\\item[USER\\textbackslash{}\\_POINTS] 0\n",
       "\\item[SalesInMillions] 0\n",
       "\\end{description*}\n"
      ],
      "text/markdown": [
       "ID\n",
       ":   0CONSOLE\n",
       ":   0YEAR\n",
       ":   0CATEGORY\n",
       ":   0PUBLISHER\n",
       ":   0RATING\n",
       ":   0CRITICS_POINTS\n",
       ":   0USER_POINTS\n",
       ":   0SalesInMillions\n",
       ":   0\n",
       "\n"
      ],
      "text/plain": [
       "             ID         CONSOLE            YEAR        CATEGORY       PUBLISHER \n",
       "              0               0               0               0               0 \n",
       "         RATING  CRITICS_POINTS     USER_POINTS SalesInMillions \n",
       "              0               0               0               0 "
      ]
     },
     "metadata": {},
     "output_type": "display_data"
    },
    {
     "data": {
      "text/html": [
       "<style>\n",
       ".dl-inline {width: auto; margin:0; padding: 0}\n",
       ".dl-inline>dt, .dl-inline>dd {float: none; width: auto; display: inline-block}\n",
       ".dl-inline>dt::after {content: \":\\0020\"; padding-right: .5ex}\n",
       ".dl-inline>dt:not(:first-of-type) {padding-left: .5ex}\n",
       "</style><dl class=dl-inline><dt>ID</dt><dd>0</dd><dt>CONSOLE</dt><dd>0</dd><dt>YEAR</dt><dd>0</dd><dt>CATEGORY</dt><dd>0</dd><dt>PUBLISHER</dt><dd>0</dd><dt>RATING</dt><dd>0</dd><dt>CRITICS_POINTS</dt><dd>0</dd><dt>USER_POINTS</dt><dd>0</dd></dl>\n"
      ],
      "text/latex": [
       "\\begin{description*}\n",
       "\\item[ID] 0\n",
       "\\item[CONSOLE] 0\n",
       "\\item[YEAR] 0\n",
       "\\item[CATEGORY] 0\n",
       "\\item[PUBLISHER] 0\n",
       "\\item[RATING] 0\n",
       "\\item[CRITICS\\textbackslash{}\\_POINTS] 0\n",
       "\\item[USER\\textbackslash{}\\_POINTS] 0\n",
       "\\end{description*}\n"
      ],
      "text/markdown": [
       "ID\n",
       ":   0CONSOLE\n",
       ":   0YEAR\n",
       ":   0CATEGORY\n",
       ":   0PUBLISHER\n",
       ":   0RATING\n",
       ":   0CRITICS_POINTS\n",
       ":   0USER_POINTS\n",
       ":   0\n",
       "\n"
      ],
      "text/plain": [
       "            ID        CONSOLE           YEAR       CATEGORY      PUBLISHER \n",
       "             0              0              0              0              0 \n",
       "        RATING CRITICS_POINTS    USER_POINTS \n",
       "             0              0              0 "
      ]
     },
     "metadata": {},
     "output_type": "display_data"
    }
   ],
   "source": [
    "# Checking for blanks\n",
    "\n",
    "colSums(tr=='')\n",
    "colSums(te=='')"
   ]
  },
  {
   "cell_type": "markdown",
   "metadata": {},
   "source": [
    "No blanks are present"
   ]
  },
  {
   "cell_type": "code",
   "execution_count": 5,
   "metadata": {},
   "outputs": [
    {
     "data": {
      "text/html": [
       "<style>\n",
       ".dl-inline {width: auto; margin:0; padding: 0}\n",
       ".dl-inline>dt, .dl-inline>dd {float: none; width: auto; display: inline-block}\n",
       ".dl-inline>dt::after {content: \":\\0020\"; padding-right: .5ex}\n",
       ".dl-inline>dt:not(:first-of-type) {padding-left: .5ex}\n",
       "</style><dl class=dl-inline><dt>ID</dt><dd>0</dd><dt>CONSOLE</dt><dd>0</dd><dt>YEAR</dt><dd>0</dd><dt>CATEGORY</dt><dd>0</dd><dt>PUBLISHER</dt><dd>0</dd><dt>RATING</dt><dd>0</dd><dt>CRITICS_POINTS</dt><dd>0</dd><dt>USER_POINTS</dt><dd>0</dd><dt>SalesInMillions</dt><dd>0</dd></dl>\n"
      ],
      "text/latex": [
       "\\begin{description*}\n",
       "\\item[ID] 0\n",
       "\\item[CONSOLE] 0\n",
       "\\item[YEAR] 0\n",
       "\\item[CATEGORY] 0\n",
       "\\item[PUBLISHER] 0\n",
       "\\item[RATING] 0\n",
       "\\item[CRITICS\\textbackslash{}\\_POINTS] 0\n",
       "\\item[USER\\textbackslash{}\\_POINTS] 0\n",
       "\\item[SalesInMillions] 0\n",
       "\\end{description*}\n"
      ],
      "text/markdown": [
       "ID\n",
       ":   0CONSOLE\n",
       ":   0YEAR\n",
       ":   0CATEGORY\n",
       ":   0PUBLISHER\n",
       ":   0RATING\n",
       ":   0CRITICS_POINTS\n",
       ":   0USER_POINTS\n",
       ":   0SalesInMillions\n",
       ":   0\n",
       "\n"
      ],
      "text/plain": [
       "             ID         CONSOLE            YEAR        CATEGORY       PUBLISHER \n",
       "              0               0               0               0               0 \n",
       "         RATING  CRITICS_POINTS     USER_POINTS SalesInMillions \n",
       "              0               0               0               0 "
      ]
     },
     "metadata": {},
     "output_type": "display_data"
    },
    {
     "data": {
      "text/html": [
       "<style>\n",
       ".dl-inline {width: auto; margin:0; padding: 0}\n",
       ".dl-inline>dt, .dl-inline>dd {float: none; width: auto; display: inline-block}\n",
       ".dl-inline>dt::after {content: \":\\0020\"; padding-right: .5ex}\n",
       ".dl-inline>dt:not(:first-of-type) {padding-left: .5ex}\n",
       "</style><dl class=dl-inline><dt>ID</dt><dd>0</dd><dt>CONSOLE</dt><dd>0</dd><dt>YEAR</dt><dd>0</dd><dt>CATEGORY</dt><dd>0</dd><dt>PUBLISHER</dt><dd>0</dd><dt>RATING</dt><dd>0</dd><dt>CRITICS_POINTS</dt><dd>0</dd><dt>USER_POINTS</dt><dd>0</dd></dl>\n"
      ],
      "text/latex": [
       "\\begin{description*}\n",
       "\\item[ID] 0\n",
       "\\item[CONSOLE] 0\n",
       "\\item[YEAR] 0\n",
       "\\item[CATEGORY] 0\n",
       "\\item[PUBLISHER] 0\n",
       "\\item[RATING] 0\n",
       "\\item[CRITICS\\textbackslash{}\\_POINTS] 0\n",
       "\\item[USER\\textbackslash{}\\_POINTS] 0\n",
       "\\end{description*}\n"
      ],
      "text/markdown": [
       "ID\n",
       ":   0CONSOLE\n",
       ":   0YEAR\n",
       ":   0CATEGORY\n",
       ":   0PUBLISHER\n",
       ":   0RATING\n",
       ":   0CRITICS_POINTS\n",
       ":   0USER_POINTS\n",
       ":   0\n",
       "\n"
      ],
      "text/plain": [
       "            ID        CONSOLE           YEAR       CATEGORY      PUBLISHER \n",
       "             0              0              0              0              0 \n",
       "        RATING CRITICS_POINTS    USER_POINTS \n",
       "             0              0              0 "
      ]
     },
     "metadata": {},
     "output_type": "display_data"
    }
   ],
   "source": [
    "# Checking NAs\n",
    "round(colSums(is.na(tr))*100/nrow(tr),2)\n",
    "round(colSums(is.na(te))*100/nrow(te),2)"
   ]
  },
  {
   "cell_type": "markdown",
   "metadata": {},
   "source": [
    "No NAs are present"
   ]
  },
  {
   "cell_type": "code",
   "execution_count": 6,
   "metadata": {},
   "outputs": [
    {
     "name": "stdout",
     "output_type": "stream",
     "text": [
      "'data.frame':\t3506 obs. of  9 variables:\n",
      " $ ID             : int  2860 731 495 2641 811 1803 1470 3781 325 2380 ...\n",
      " $ CONSOLE        : chr  \"ds\" \"wii\" \"pc\" \"ps2\" ...\n",
      " $ YEAR           : int  2008 2012 2019 2002 2013 2004 2008 2014 2004 2008 ...\n",
      " $ CATEGORY       : chr  \"role-playing\" \"simulation\" \"shooter\" \"sports\" ...\n",
      " $ PUBLISHER      : chr  \"Nintendo\" \"Konami Digital Entertainment\" \"Activision\" \"Electronic Arts\" ...\n",
      " $ RATING         : chr  \"E\" \"E10+\" \"M\" \"E\" ...\n",
      " $ CRITICS_POINTS : num  2.83 13.2 4.56 4.18 2.26 ...\n",
      " $ USER_POINTS    : num  0.3037 1.64 0.00641 0.32692 0.03258 ...\n",
      " $ SalesInMillions: num  1.7793 0.215 0.5344 1.384 0.0827 ...\n"
     ]
    }
   ],
   "source": [
    "# Data statistics\n",
    "\n",
    "str(tr)"
   ]
  },
  {
   "cell_type": "markdown",
   "metadata": {},
   "source": [
    "###### We find that there are four character variables which will be treated as categorical variables"
   ]
  },
  {
   "cell_type": "code",
   "execution_count": 7,
   "metadata": {},
   "outputs": [
    {
     "data": {
      "text/plain": [
       "       ID         CONSOLE               YEAR        CATEGORY        \n",
       " Min.   :   1   Length:3506        Min.   :1997   Length:3506       \n",
       " 1st Qu.:1220   Class :character   1st Qu.:2006   Class :character  \n",
       " Median :2262   Mode  :character   Median :2009   Mode  :character  \n",
       " Mean   :2282                      Mean   :2009                     \n",
       " 3rd Qu.:3405                      3rd Qu.:2012                     \n",
       " Max.   :4523                      Max.   :2019                     \n",
       "  PUBLISHER            RATING          CRITICS_POINTS    USER_POINTS       \n",
       " Length:3506        Length:3506        Min.   : 0.569   Min.   :0.0003406  \n",
       " Class :character   Class :character   1st Qu.: 1.738   1st Qu.:0.0659660  \n",
       " Mode  :character   Mode  :character   Median : 2.767   Median :0.2333333  \n",
       "                                       Mean   : 3.791   Mean   :0.4058239  \n",
       "                                       3rd Qu.: 4.622   3rd Qu.:0.5983333  \n",
       "                                       Max.   :23.250   Max.   :2.3250000  \n",
       " SalesInMillions   \n",
       " Min.   : 0.00152  \n",
       " 1st Qu.: 0.96568  \n",
       " Median : 1.86614  \n",
       " Mean   : 2.17102  \n",
       " 3rd Qu.: 2.79203  \n",
       " Max.   :84.22604  "
      ]
     },
     "metadata": {},
     "output_type": "display_data"
    }
   ],
   "source": [
    "summary(tr)"
   ]
  },
  {
   "cell_type": "code",
   "execution_count": 8,
   "metadata": {},
   "outputs": [
    {
     "data": {
      "text/html": [
       "<style>\n",
       ".dl-inline {width: auto; margin:0; padding: 0}\n",
       ".dl-inline>dt, .dl-inline>dd {float: none; width: auto; display: inline-block}\n",
       ".dl-inline>dt::after {content: \":\\0020\"; padding-right: .5ex}\n",
       ".dl-inline>dt:not(:first-of-type) {padding-left: .5ex}\n",
       "</style><dl class=dl-inline><dt>ID</dt><dd>2654</dd><dt>CONSOLE</dt><dd>17</dd><dt>YEAR</dt><dd>23</dd><dt>CATEGORY</dt><dd>12</dd><dt>PUBLISHER</dt><dd>204</dd><dt>RATING</dt><dd>6</dd><dt>CRITICS_POINTS</dt><dd>1683</dd><dt>USER_POINTS</dt><dd>2202</dd><dt>SalesInMillions</dt><dd>3506</dd></dl>\n"
      ],
      "text/latex": [
       "\\begin{description*}\n",
       "\\item[ID] 2654\n",
       "\\item[CONSOLE] 17\n",
       "\\item[YEAR] 23\n",
       "\\item[CATEGORY] 12\n",
       "\\item[PUBLISHER] 204\n",
       "\\item[RATING] 6\n",
       "\\item[CRITICS\\textbackslash{}\\_POINTS] 1683\n",
       "\\item[USER\\textbackslash{}\\_POINTS] 2202\n",
       "\\item[SalesInMillions] 3506\n",
       "\\end{description*}\n"
      ],
      "text/markdown": [
       "ID\n",
       ":   2654CONSOLE\n",
       ":   17YEAR\n",
       ":   23CATEGORY\n",
       ":   12PUBLISHER\n",
       ":   204RATING\n",
       ":   6CRITICS_POINTS\n",
       ":   1683USER_POINTS\n",
       ":   2202SalesInMillions\n",
       ":   3506\n",
       "\n"
      ],
      "text/plain": [
       "             ID         CONSOLE            YEAR        CATEGORY       PUBLISHER \n",
       "           2654              17              23              12             204 \n",
       "         RATING  CRITICS_POINTS     USER_POINTS SalesInMillions \n",
       "              6            1683            2202            3506 "
      ]
     },
     "metadata": {},
     "output_type": "display_data"
    }
   ],
   "source": [
    "# Checking unique elements across every column\n",
    "sapply(tr,function(x){length(unique(x))})"
   ]
  },
  {
   "cell_type": "markdown",
   "metadata": {},
   "source": [
    "##### Publisher has many unique categories"
   ]
  },
  {
   "cell_type": "markdown",
   "metadata": {},
   "source": [
    "## EDA"
   ]
  },
  {
   "cell_type": "markdown",
   "metadata": {},
   "source": [
    "I use a library called rcompanion for plotting data"
   ]
  },
  {
   "cell_type": "code",
   "execution_count": 9,
   "metadata": {},
   "outputs": [
    {
     "name": "stderr",
     "output_type": "stream",
     "text": [
      "\n",
      "Attaching package: 'rcompanion'\n",
      "\n",
      "\n",
      "The following object is masked from 'package:Metrics':\n",
      "\n",
      "    accuracy\n",
      "\n",
      "\n"
     ]
    }
   ],
   "source": [
    "suppressWarnings(library(rcompanion))"
   ]
  },
  {
   "cell_type": "code",
   "execution_count": 10,
   "metadata": {},
   "outputs": [
    {
     "data": {
      "image/png": "[encoded data removed]",
      "text/plain": [
       "Plot with title \"Histogram of Sales in Millions\""
      ]
     },
     "metadata": {
      "image/png": {
       "height": 420,
       "width": 420
      },
      "text/plain": {
       "height": 420,
       "width": 420
      }
     },
     "output_type": "display_data"
    }
   ],
   "source": [
    "plotNormalHistogram(tr$SalesInMillions,main = \"Histogram of Sales in Millions\")"
   ]
  },
  {
   "cell_type": "code",
   "execution_count": 11,
   "metadata": {},
   "outputs": [
    {
     "data": {
      "image/png": "[encoded data removed]",
      "text/plain": [
       "Plot with title \"Normal Q-Q Plot\""
      ]
     },
     "metadata": {
      "image/png": {
       "height": 420,
       "width": 420
      },
      "text/plain": {
       "height": 420,
       "width": 420
      }
     },
     "output_type": "display_data"
    }
   ],
   "source": [
    "qqnorm(tr$SalesInMillions,\n",
    "       ylab=\"Sales\")\n",
    "\n",
    "qqline(tr$SalesInMillions,\n",
    "       col=\"red\")"
   ]
  },
  {
   "cell_type": "code",
   "execution_count": 12,
   "metadata": {},
   "outputs": [
    {
     "data": {
      "image/png": "[encoded data removed]",
      "text/plain": [
       "plot without title"
      ]
     },
     "metadata": {
      "image/png": {
       "height": 420,
       "width": 420
      },
      "text/plain": {
       "height": 420,
       "width": 420
      }
     },
     "output_type": "display_data"
    }
   ],
   "source": [
    "boxplot(tr$SalesInMillions)"
   ]
  },
  {
   "cell_type": "markdown",
   "metadata": {},
   "source": [
    "##### From the summary and plots, we can find that the distribution of response variable is heavily right skewed and data contains outliers"
   ]
  },
  {
   "cell_type": "code",
   "execution_count": 13,
   "metadata": {},
   "outputs": [
    {
     "data": {
      "image/png": "[encoded data removed]",
      "text/plain": [
       "plot without title"
      ]
     },
     "metadata": {
      "image/png": {
       "height": 420,
       "width": 420
      },
      "text/plain": {
       "height": 420,
       "width": 420
      }
     },
     "output_type": "display_data"
    }
   ],
   "source": [
    "pairs(tr[c('CRITICS_POINTS','USER_POINTS','SalesInMillions')])"
   ]
  },
  {
   "cell_type": "markdown",
   "metadata": {},
   "source": [
    "Paired plots are provided to explore the relationship between the numerical variables and the response variable  "
   ]
  },
  {
   "cell_type": "code",
   "execution_count": 14,
   "metadata": {},
   "outputs": [
    {
     "data": {
      "image/png": "[encoded data removed]",
      "text/plain": [
       "Plot with title \"Average Sales for RATING\""
      ]
     },
     "metadata": {
      "image/png": {
       "height": 420,
       "width": 420
      },
      "text/plain": {
       "height": 420,
       "width": 420
      }
     },
     "output_type": "display_data"
    }
   ],
   "source": [
    "# Average sales for categorical variables\n",
    "layout(matrix(c(1,1,1,2,2,2,3,3,3,4,4,4), 4, 3, byrow = TRUE))\n",
    "\n",
    "fact_cols <- c('CONSOLE','CATEGORY','PUBLISHER','RATING')\n",
    "\n",
    "for (i in fact_cols){\n",
    "  plot_table <- aggregate(SalesInMillions ~ get(i), data=tr, FUN=mean, na.rm=T)\n",
    "  plot_table <- plot_table %>% arrange(desc(SalesInMillions))\n",
    "  names(plot_table)[1] <- i\n",
    "  barplot(plot_table$SalesInMillions,names = plot_table[,i],\n",
    "          xlab = i, ylab = \"Sales\",\n",
    "          main = paste(\"Average Sales for\",i))\n",
    "  \n",
    "}"
   ]
  },
  {
   "cell_type": "markdown",
   "metadata": {},
   "source": [
    "Wii has the highest average sales in Console <br>\n",
    "Shooter category sells the highest average sales <br>\n",
    "Gt Interactive gets the highest average sales <br>\n",
    "The Rating M generates the highest average sales <br>"
   ]
  },
  {
   "cell_type": "code",
   "execution_count": 15,
   "metadata": {},
   "outputs": [
    {
     "data": {
      "text/plain": [
       "\n",
       "1997 1998 1999 2000 2001 2002 2003 2004 2005 2006 2007 2008 2009 2010 2011 2012 \n",
       "   2    8    6   23   56   96  177  224  237  230  283  309  300  291  262  215 \n",
       "2013 2014 2015 2016 2017 2018 2019 \n",
       " 192  188  124  124   79   52   28 "
      ]
     },
     "metadata": {},
     "output_type": "display_data"
    }
   ],
   "source": [
    "### By year\n",
    "\n",
    "table(tr$YEAR)"
   ]
  },
  {
   "cell_type": "code",
   "execution_count": 16,
   "metadata": {},
   "outputs": [
    {
     "data": {
      "image/png": "[encoded data removed]",
      "text/plain": [
       "plot without title"
      ]
     },
     "metadata": {
      "image/png": {
       "height": 420,
       "width": 420
      },
      "text/plain": {
       "height": 420,
       "width": 420
      }
     },
     "output_type": "display_data"
    }
   ],
   "source": [
    "# Plotting avearge sales every year\n",
    "avg_sales_by_year <- aggregate(SalesInMillions ~ YEAR, data=tr, FUN=mean, na.rm=T)\n",
    "\n",
    "plot(SalesInMillions ~ YEAR,avg_sales_by_year, type = 'l')\n",
    "abline(lm(SalesInMillions ~ YEAR,tr),col = \"red\")"
   ]
  },
  {
   "cell_type": "code",
   "execution_count": 17,
   "metadata": {},
   "outputs": [
    {
     "data": {
      "text/plain": [
       "\n",
       "Call:\n",
       "lm(formula = SalesInMillions ~ YEAR, data = tr)\n",
       "\n",
       "Residuals:\n",
       "   Min     1Q Median     3Q    Max \n",
       "-2.250 -1.201 -0.306  0.621 82.073 \n",
       "\n",
       "Coefficients:\n",
       "              Estimate Std. Error t value Pr(>|t|)\n",
       "(Intercept) -15.853936  19.673725  -0.806     0.42\n",
       "YEAR          0.008972   0.009793   0.916     0.36\n",
       "\n",
       "Residual standard error: 2.495 on 3504 degrees of freedom\n",
       "Multiple R-squared:  0.0002395,\tAdjusted R-squared:  -4.582e-05 \n",
       "F-statistic: 0.8394 on 1 and 3504 DF,  p-value: 0.3596\n"
      ]
     },
     "metadata": {},
     "output_type": "display_data"
    }
   ],
   "source": [
    "summary(lm(SalesInMillions ~ YEAR,tr))"
   ]
  },
  {
   "cell_type": "markdown",
   "metadata": {},
   "source": [
    "#### The line chart shows that there is very little relationship between YEAR and Average sales\n",
    "#### The same is proved statistically\n"
   ]
  },
  {
   "cell_type": "markdown",
   "metadata": {},
   "source": [
    "## Feature Engineering"
   ]
  },
  {
   "cell_type": "code",
   "execution_count": 18,
   "metadata": {},
   "outputs": [
    {
     "data": {
      "text/plain": [
       "\n",
       " 3ds   dc   ds  gba   gc   pc   ps  ps2  ps3  ps4  psp  psv  wii wiiu    x x360 \n",
       "  84    4  246  129  164  315   83  585  438  121  180   59  254   45  266  448 \n",
       "xone \n",
       "  85 "
      ]
     },
     "metadata": {},
     "output_type": "display_data"
    }
   ],
   "source": [
    "table(tr$CONSOLE)"
   ]
  },
  {
   "cell_type": "markdown",
   "metadata": {},
   "source": [
    "#### Here, the CONSOLE variable is grouped into a broader category called PLATFORM. The sqldf package is used to perform this operation"
   ]
  },
  {
   "cell_type": "code",
   "execution_count": 19,
   "metadata": {},
   "outputs": [
    {
     "name": "stderr",
     "output_type": "stream",
     "text": [
      "Loading required package: gsubfn\n",
      "\n",
      "Loading required package: proto\n",
      "\n",
      "Loading required package: RSQLite\n",
      "\n"
     ]
    }
   ],
   "source": [
    "suppressWarnings(library(sqldf))"
   ]
  },
  {
   "cell_type": "code",
   "execution_count": 20,
   "metadata": {},
   "outputs": [],
   "source": [
    "query1 <- \"select *,\n",
    "case \n",
    "when CONSOLE in ('3ds','ds','gba','gc','wii','wiiu') then 'Nintendo'\n",
    "when CONSOLE like ('ps%') then 'PlayStation'\n",
    "when CONSOLE like ('x%') then 'Microsoft_Xbox'\n",
    "when CONSOLE = 'ds' then 'Sega'\n",
    "else 'Windows' end as PLATFORM\n",
    "from tr\n",
    "\"\n",
    "\n",
    "tr <- sqldf(query1)\n",
    "\n",
    "query2 <- \"select *,\n",
    "case \n",
    "when CONSOLE in ('3ds','ds','gba','gc','wii','wiiu') then 'Nintendo'\n",
    "when CONSOLE like ('ps%') then 'PlayStation'\n",
    "when CONSOLE like ('x%') then 'Microsoft_Xbox'\n",
    "when CONSOLE = 'ds' then 'Sega'\n",
    "else 'Windows' end as PLATFORM\n",
    "from te\n",
    "\"\n",
    "te <- sqldf(query2)"
   ]
  },
  {
   "cell_type": "markdown",
   "metadata": {},
   "source": [
    "#### Another feature called TOTAL_POINTS which is the sum of CRITICS_POINTS and USER_POINTS"
   ]
  },
  {
   "cell_type": "code",
   "execution_count": 21,
   "metadata": {},
   "outputs": [],
   "source": [
    "tr$TOTAL_POINTS <- tr$CRITICS_POINTS + tr$USER_POINTS\n",
    "te$TOTAL_POINTS <- te$CRITICS_POINTS + te$USER_POINTS"
   ]
  },
  {
   "cell_type": "markdown",
   "metadata": {},
   "source": [
    "## Preprocessing Data"
   ]
  },
  {
   "cell_type": "code",
   "execution_count": 22,
   "metadata": {},
   "outputs": [
    {
     "data": {
      "image/png": "[encoded data removed]",
      "text/plain": [
       "Plot with title \"Histogram of Total Points - Test\""
      ]
     },
     "metadata": {
      "image/png": {
       "height": 420,
       "width": 420
      },
      "text/plain": {
       "height": 420,
       "width": 420
      }
     },
     "output_type": "display_data"
    }
   ],
   "source": [
    "par(mfrow=c(2,3))\n",
    "plotNormalHistogram(tr$CRITICS_POINTS,main = \"Histogram of Critics Points - Train\")\n",
    "\n",
    "plotNormalHistogram(tr$USER_POINTS,main = \"Histogram of User Points - Train\")\n",
    "\n",
    "plotNormalHistogram(tr$TOTAL_POINTS,,main = \"Histogram of Total Points - Train\")\n",
    "\n",
    "plotNormalHistogram(te$CRITICS_POINTS,main = \"Histogram of Critics Points - Test\")\n",
    "\n",
    "plotNormalHistogram(te$USER_POINTS,main = \"Histogram of User Points - Test\")\n",
    "\n",
    "plotNormalHistogram(te$TOTAL_POINTS,,main = \"Histogram of Total Points - Test\")"
   ]
  },
  {
   "cell_type": "markdown",
   "metadata": {},
   "source": [
    "##### The numerical features show that they are right skewed and need to be preprocessed"
   ]
  },
  {
   "cell_type": "code",
   "execution_count": 23,
   "metadata": {},
   "outputs": [],
   "source": [
    "# Storing IDs in separate variables\n",
    "\n",
    "tr_id <- tr$ID\n",
    "te_id <- te$ID\n",
    "\n",
    "# Removing IDs\n",
    "tr$ID <- NULL\n",
    "te$ID <- NULL"
   ]
  },
  {
   "cell_type": "code",
   "execution_count": 24,
   "metadata": {},
   "outputs": [],
   "source": [
    "# YEAR is converted to character as only numerical features are preprocessed\n",
    "\n",
    "tr$YEAR <- as.character(tr$YEAR)\n",
    "te$YEAR <- as.character(te$YEAR)\n",
    "\n",
    "# Storing Response variable in separate object\n",
    "\n",
    "y <- tr$SalesInMillions\n",
    "tr$SalesInMillions <- NULL"
   ]
  },
  {
   "cell_type": "markdown",
   "metadata": {},
   "source": [
    "#### The data is preprocessed using preProcess() function from caret package\n",
    "#### The data is transformed using z-score and Box-Cox to make it standardized and bell shaped"
   ]
  },
  {
   "cell_type": "code",
   "execution_count": 25,
   "metadata": {},
   "outputs": [],
   "source": [
    "### Standardizing using Z-score and Box-Cox\n",
    "\n",
    "preProcValues <- preProcess(tr, method = c(\"center\",\"scale\",\"BoxCox\"))\n",
    "\n",
    "tr <- predict(preProcValues, tr)\n",
    "\n",
    "preProcValues <- preProcess(te, method = c(\"center\",\"scale\",\"BoxCox\"))\n",
    "\n",
    "te <- predict(preProcValues, te)"
   ]
  },
  {
   "cell_type": "code",
   "execution_count": 26,
   "metadata": {},
   "outputs": [],
   "source": [
    "# Storing response variable to train data\n",
    "\n",
    "tr$y <- y"
   ]
  },
  {
   "cell_type": "code",
   "execution_count": 27,
   "metadata": {},
   "outputs": [
    {
     "data": {
      "image/png": "[encoded data removed]",
      "text/plain": [
       "Plot with title \"Histogram of Total Points - Test\""
      ]
     },
     "metadata": {
      "image/png": {
       "height": 420,
       "width": 420
      },
      "text/plain": {
       "height": 420,
       "width": 420
      }
     },
     "output_type": "display_data"
    }
   ],
   "source": [
    "par(mfrow=c(2,3))\n",
    "plotNormalHistogram(tr$CRITICS_POINTS,main = \"Histogram of Critics Points - Train\")\n",
    "\n",
    "plotNormalHistogram(tr$USER_POINTS,main = \"Histogram of User Points - Train\")\n",
    "\n",
    "plotNormalHistogram(tr$TOTAL_POINTS,,main = \"Histogram of Total Points - Train\")\n",
    "\n",
    "plotNormalHistogram(te$CRITICS_POINTS,main = \"Histogram of Critics Points - Test\")\n",
    "\n",
    "plotNormalHistogram(te$USER_POINTS,main = \"Histogram of User Points - Test\")\n",
    "\n",
    "plotNormalHistogram(te$TOTAL_POINTS,,main = \"Histogram of Total Points - Test\")"
   ]
  },
  {
   "cell_type": "markdown",
   "metadata": {},
   "source": [
    "The data is transformed and looks standardized and bell-shaped"
   ]
  },
  {
   "cell_type": "markdown",
   "metadata": {},
   "source": [
    "#### Processing Categorical variables\n",
    "\n",
    "Categorical Variables are CONSOLE, CATEGORY, PUBLISHER, RATING, YEAR and PLATFORM. YEAR is taken to be categorical as the linear relationship with Sales is not significant."
   ]
  },
  {
   "cell_type": "code",
   "execution_count": 28,
   "metadata": {},
   "outputs": [],
   "source": [
    "## Processing Categorical Variables\n",
    "\n",
    "fact_cols <- c('CONSOLE','CATEGORY','PUBLISHER','RATING','YEAR','PLATFORM')\n",
    "\n",
    "\n",
    "for (i in fact_cols){\n",
    "  tr[[i]] <- as.factor(tr[[i]])\n",
    "  te[[i]] <- as.factor(te[[i]])\n",
    "}"
   ]
  },
  {
   "cell_type": "markdown",
   "metadata": {},
   "source": [
    "## Modeling"
   ]
  },
  {
   "cell_type": "code",
   "execution_count": 29,
   "metadata": {},
   "outputs": [
    {
     "data": {
      "text/html": [
       "<table>\n",
       "<caption>A data.frame: 10 × 10</caption>\n",
       "<thead>\n",
       "\t<tr><th></th><th scope=col>CONSOLE</th><th scope=col>YEAR</th><th scope=col>CATEGORY</th><th scope=col>PUBLISHER</th><th scope=col>RATING</th><th scope=col>CRITICS_POINTS</th><th scope=col>USER_POINTS</th><th scope=col>PLATFORM</th><th scope=col>TOTAL_POINTS</th><th scope=col>y</th></tr>\n",
       "\t<tr><th></th><th scope=col>&lt;fct&gt;</th><th scope=col>&lt;fct&gt;</th><th scope=col>&lt;fct&gt;</th><th scope=col>&lt;fct&gt;</th><th scope=col>&lt;fct&gt;</th><th scope=col>&lt;dbl&gt;</th><th scope=col>&lt;dbl&gt;</th><th scope=col>&lt;fct&gt;</th><th scope=col>&lt;dbl&gt;</th><th scope=col>&lt;dbl&gt;</th></tr>\n",
       "</thead>\n",
       "<tbody>\n",
       "\t<tr><th scope=row>1</th><td>wii </td><td>2007</td><td>sports  </td><td>Nintendo              </td><td>E</td><td>-1.0331679</td><td>-1.2353927</td><td>Nintendo      </td><td>-1.1195148</td><td>84.22604</td></tr>\n",
       "\t<tr><th scope=row>2</th><td>wii </td><td>2011</td><td>racing  </td><td>Nintendo              </td><td>E</td><td>-1.5758248</td><td>-1.5503994</td><td>Nintendo      </td><td>-1.5386677</td><td>34.72203</td></tr>\n",
       "\t<tr><th scope=row>3</th><td>wii </td><td>2011</td><td>sports  </td><td>Nintendo              </td><td>E</td><td>-1.6254542</td><td>-0.9886685</td><td>Nintendo      </td><td>-1.5356062</td><td>32.84456</td></tr>\n",
       "\t<tr><th scope=row>4</th><td>ds  </td><td>2008</td><td>platform</td><td>Nintendo              </td><td>E</td><td>-1.1909052</td><td>-1.3367271</td><td>Nintendo      </td><td>-1.2455944</td><td>31.33422</td></tr>\n",
       "\t<tr><th scope=row>5</th><td>wii </td><td>2010</td><td>platform</td><td>Nintendo              </td><td>E</td><td>-1.6409768</td><td>-1.4744630</td><td>Nintendo      </td><td>-1.5819312</td><td>26.45620</td></tr>\n",
       "\t<tr><th scope=row>6</th><td>wii </td><td>2008</td><td>sports  </td><td>Nintendo              </td><td>E</td><td>-1.3347220</td><td>-0.8649561</td><td>Nintendo      </td><td>-1.3165751</td><td>25.44337</td></tr>\n",
       "\t<tr><th scope=row>7</th><td>ds  </td><td>2008</td><td>racing  </td><td>Nintendo              </td><td>E</td><td>-1.1201160</td><td>-1.3623076</td><td>Nintendo      </td><td>-1.1927343</td><td>24.56071</td></tr>\n",
       "\t<tr><th scope=row>8</th><td>x360</td><td>2010</td><td>misc    </td><td>Microsoft Game Studios</td><td>E</td><td>-1.2098747</td><td>-0.8013324</td><td>Microsoft_Xbox</td><td>-1.2185399</td><td>20.07628</td></tr>\n",
       "\t<tr><th scope=row>9</th><td>ps3 </td><td>2015</td><td>action  </td><td>Take-Two Interactive  </td><td>M</td><td>-0.5666069</td><td>-2.1221376</td><td>PlayStation   </td><td>-0.7589422</td><td>19.29675</td></tr>\n",
       "\t<tr><th scope=row>10</th><td>x360</td><td>2015</td><td>action  </td><td>Take-Two Interactive  </td><td>M</td><td>-0.8245750</td><td>-2.1049999</td><td>Microsoft_Xbox</td><td>-0.9740272</td><td>17.59328</td></tr>\n",
       "</tbody>\n",
       "</table>\n"
      ],
      "text/latex": [
       "A data.frame: 10 × 10\n",
       "\\begin{tabular}{r|llllllllll}\n",
       "  & CONSOLE & YEAR & CATEGORY & PUBLISHER & RATING & CRITICS\\_POINTS & USER\\_POINTS & PLATFORM & TOTAL\\_POINTS & y\\\\\n",
       "  & <fct> & <fct> & <fct> & <fct> & <fct> & <dbl> & <dbl> & <fct> & <dbl> & <dbl>\\\\\n",
       "\\hline\n",
       "\t1 & wii  & 2007 & sports   & Nintendo               & E & -1.0331679 & -1.2353927 & Nintendo       & -1.1195148 & 84.22604\\\\\n",
       "\t2 & wii  & 2011 & racing   & Nintendo               & E & -1.5758248 & -1.5503994 & Nintendo       & -1.5386677 & 34.72203\\\\\n",
       "\t3 & wii  & 2011 & sports   & Nintendo               & E & -1.6254542 & -0.9886685 & Nintendo       & -1.5356062 & 32.84456\\\\\n",
       "\t4 & ds   & 2008 & platform & Nintendo               & E & -1.1909052 & -1.3367271 & Nintendo       & -1.2455944 & 31.33422\\\\\n",
       "\t5 & wii  & 2010 & platform & Nintendo               & E & -1.6409768 & -1.4744630 & Nintendo       & -1.5819312 & 26.45620\\\\\n",
       "\t6 & wii  & 2008 & sports   & Nintendo               & E & -1.3347220 & -0.8649561 & Nintendo       & -1.3165751 & 25.44337\\\\\n",
       "\t7 & ds   & 2008 & racing   & Nintendo               & E & -1.1201160 & -1.3623076 & Nintendo       & -1.1927343 & 24.56071\\\\\n",
       "\t8 & x360 & 2010 & misc     & Microsoft Game Studios & E & -1.2098747 & -0.8013324 & Microsoft\\_Xbox & -1.2185399 & 20.07628\\\\\n",
       "\t9 & ps3  & 2015 & action   & Take-Two Interactive   & M & -0.5666069 & -2.1221376 & PlayStation    & -0.7589422 & 19.29675\\\\\n",
       "\t10 & x360 & 2015 & action   & Take-Two Interactive   & M & -0.8245750 & -2.1049999 & Microsoft\\_Xbox & -0.9740272 & 17.59328\\\\\n",
       "\\end{tabular}\n"
      ],
      "text/markdown": [
       "\n",
       "A data.frame: 10 × 10\n",
       "\n",
       "| <!--/--> | CONSOLE &lt;fct&gt; | YEAR &lt;fct&gt; | CATEGORY &lt;fct&gt; | PUBLISHER &lt;fct&gt; | RATING &lt;fct&gt; | CRITICS_POINTS &lt;dbl&gt; | USER_POINTS &lt;dbl&gt; | PLATFORM &lt;fct&gt; | TOTAL_POINTS &lt;dbl&gt; | y &lt;dbl&gt; |\n",
       "|---|---|---|---|---|---|---|---|---|---|---|\n",
       "| 1 | wii  | 2007 | sports   | Nintendo               | E | -1.0331679 | -1.2353927 | Nintendo       | -1.1195148 | 84.22604 |\n",
       "| 2 | wii  | 2011 | racing   | Nintendo               | E | -1.5758248 | -1.5503994 | Nintendo       | -1.5386677 | 34.72203 |\n",
       "| 3 | wii  | 2011 | sports   | Nintendo               | E | -1.6254542 | -0.9886685 | Nintendo       | -1.5356062 | 32.84456 |\n",
       "| 4 | ds   | 2008 | platform | Nintendo               | E | -1.1909052 | -1.3367271 | Nintendo       | -1.2455944 | 31.33422 |\n",
       "| 5 | wii  | 2010 | platform | Nintendo               | E | -1.6409768 | -1.4744630 | Nintendo       | -1.5819312 | 26.45620 |\n",
       "| 6 | wii  | 2008 | sports   | Nintendo               | E | -1.3347220 | -0.8649561 | Nintendo       | -1.3165751 | 25.44337 |\n",
       "| 7 | ds   | 2008 | racing   | Nintendo               | E | -1.1201160 | -1.3623076 | Nintendo       | -1.1927343 | 24.56071 |\n",
       "| 8 | x360 | 2010 | misc     | Microsoft Game Studios | E | -1.2098747 | -0.8013324 | Microsoft_Xbox | -1.2185399 | 20.07628 |\n",
       "| 9 | ps3  | 2015 | action   | Take-Two Interactive   | M | -0.5666069 | -2.1221376 | PlayStation    | -0.7589422 | 19.29675 |\n",
       "| 10 | x360 | 2015 | action   | Take-Two Interactive   | M | -0.8245750 | -2.1049999 | Microsoft_Xbox | -0.9740272 | 17.59328 |\n",
       "\n"
      ],
      "text/plain": [
       "   CONSOLE YEAR CATEGORY PUBLISHER              RATING CRITICS_POINTS\n",
       "1  wii     2007 sports   Nintendo               E      -1.0331679    \n",
       "2  wii     2011 racing   Nintendo               E      -1.5758248    \n",
       "3  wii     2011 sports   Nintendo               E      -1.6254542    \n",
       "4  ds      2008 platform Nintendo               E      -1.1909052    \n",
       "5  wii     2010 platform Nintendo               E      -1.6409768    \n",
       "6  wii     2008 sports   Nintendo               E      -1.3347220    \n",
       "7  ds      2008 racing   Nintendo               E      -1.1201160    \n",
       "8  x360    2010 misc     Microsoft Game Studios E      -1.2098747    \n",
       "9  ps3     2015 action   Take-Two Interactive   M      -0.5666069    \n",
       "10 x360    2015 action   Take-Two Interactive   M      -0.8245750    \n",
       "   USER_POINTS PLATFORM       TOTAL_POINTS y       \n",
       "1  -1.2353927  Nintendo       -1.1195148   84.22604\n",
       "2  -1.5503994  Nintendo       -1.5386677   34.72203\n",
       "3  -0.9886685  Nintendo       -1.5356062   32.84456\n",
       "4  -1.3367271  Nintendo       -1.2455944   31.33422\n",
       "5  -1.4744630  Nintendo       -1.5819312   26.45620\n",
       "6  -0.8649561  Nintendo       -1.3165751   25.44337\n",
       "7  -1.3623076  Nintendo       -1.1927343   24.56071\n",
       "8  -0.8013324  Microsoft_Xbox -1.2185399   20.07628\n",
       "9  -2.1221376  PlayStation    -0.7589422   19.29675\n",
       "10 -2.1049999  Microsoft_Xbox -0.9740272   17.59328"
      ]
     },
     "metadata": {},
     "output_type": "display_data"
    }
   ],
   "source": [
    "head(tr %>% arrange(desc(y)),10)"
   ]
  },
  {
   "cell_type": "markdown",
   "metadata": {},
   "source": [
    "#### Since the data has outliers, we remove the outliers by considering Sales < 30"
   ]
  },
  {
   "cell_type": "code",
   "execution_count": 30,
   "metadata": {},
   "outputs": [],
   "source": [
    "d <- tr[tr$y < 30,]"
   ]
  },
  {
   "cell_type": "markdown",
   "metadata": {},
   "source": [
    "### A list of algorithms were used to train this model like GBM, XGBoost and Light GBM. Since, this data has more categorical features and some features have many categories, a Catboost algorithm is used to train this model.\n",
    "\n",
    "#### Catboost is a state-of-the-art boosting algorithm on decision trees developed by Yandex that works well with categorical data.\n",
    "\n",
    "For more info: https://catboost.ai/"
   ]
  },
  {
   "cell_type": "code",
   "execution_count": 31,
   "metadata": {},
   "outputs": [],
   "source": [
    "# Load catboost library\n",
    "suppressWarnings(library(catboost))"
   ]
  },
  {
   "cell_type": "code",
   "execution_count": 32,
   "metadata": {},
   "outputs": [],
   "source": [
    "target <- \"y\"\n",
    "\n",
    "# Features\n",
    "x <- d[ , -which(names(d) %in% target)]\n",
    "\n",
    "# Response\n",
    "y <- d[ , which(names(d) %in% target)]"
   ]
  },
  {
   "cell_type": "markdown",
   "metadata": {},
   "source": [
    "#### A 10-fold CV is prepared to train the data"
   ]
  },
  {
   "cell_type": "code",
   "execution_count": 33,
   "metadata": {},
   "outputs": [],
   "source": [
    "# Train control\n",
    "\n",
    "ctrl <- trainControl(method=\"cv\",     # cross-validation set approach to use\n",
    "                     number=10,        # k number of times to do k-fold\n",
    "                     classProbs = FALSE,  # if you want probabilities\n",
    "                     summaryFunction = defaultSummary,  # for regression\n",
    "                     allowParallel=T,\n",
    "                     verboseIter = T\n",
    ")"
   ]
  },
  {
   "cell_type": "markdown",
   "metadata": {},
   "source": [
    "#### Hyperparameters used:\n",
    "\n",
    "depth = Depth of tree <br>\n",
    "learning_rate = Learning Rate <br>\n",
    "iterations = Max number of trees that can be built <br>\n",
    "l2_leaf_reg = L2 regularization <br>\n",
    "rsm = Percentage of features to use at each split selection <br>\n",
    "border_count = Number of splits for numerical features <br>"
   ]
  },
  {
   "cell_type": "code",
   "execution_count": 34,
   "metadata": {},
   "outputs": [],
   "source": [
    "# Hyperparameter grid\n",
    "grid <- expand.grid(depth = c(6,8),\n",
    "                    learning_rate = 0.01,\n",
    "                    iterations = seq(from = 100, to = 1000, by = 100),\n",
    "                    l2_leaf_reg = 0.001,\n",
    "                    rsm = 1,\n",
    "                    border_count = 64)"
   ]
  },
  {
   "cell_type": "code",
   "execution_count": 35,
   "metadata": {},
   "outputs": [
    {
     "name": "stdout",
     "output_type": "stream",
     "text": [
      "+ Fold01: depth=6, learning_rate=0.01, l2_leaf_reg=0.001, rsm=1, border_count=64, iterations=1000 \n",
      "- Fold01: depth=6, learning_rate=0.01, l2_leaf_reg=0.001, rsm=1, border_count=64, iterations=1000 \n",
      "+ Fold01: depth=8, learning_rate=0.01, l2_leaf_reg=0.001, rsm=1, border_count=64, iterations=1000 \n",
      "- Fold01: depth=8, learning_rate=0.01, l2_leaf_reg=0.001, rsm=1, border_count=64, iterations=1000 \n",
      "+ Fold02: depth=6, learning_rate=0.01, l2_leaf_reg=0.001, rsm=1, border_count=64, iterations=1000 \n",
      "- Fold02: depth=6, learning_rate=0.01, l2_leaf_reg=0.001, rsm=1, border_count=64, iterations=1000 \n",
      "+ Fold02: depth=8, learning_rate=0.01, l2_leaf_reg=0.001, rsm=1, border_count=64, iterations=1000 \n",
      "- Fold02: depth=8, learning_rate=0.01, l2_leaf_reg=0.001, rsm=1, border_count=64, iterations=1000 \n",
      "+ Fold03: depth=6, learning_rate=0.01, l2_leaf_reg=0.001, rsm=1, border_count=64, iterations=1000 \n",
      "- Fold03: depth=6, learning_rate=0.01, l2_leaf_reg=0.001, rsm=1, border_count=64, iterations=1000 \n",
      "+ Fold03: depth=8, learning_rate=0.01, l2_leaf_reg=0.001, rsm=1, border_count=64, iterations=1000 \n",
      "- Fold03: depth=8, learning_rate=0.01, l2_leaf_reg=0.001, rsm=1, border_count=64, iterations=1000 \n",
      "+ Fold04: depth=6, learning_rate=0.01, l2_leaf_reg=0.001, rsm=1, border_count=64, iterations=1000 \n",
      "- Fold04: depth=6, learning_rate=0.01, l2_leaf_reg=0.001, rsm=1, border_count=64, iterations=1000 \n",
      "+ Fold04: depth=8, learning_rate=0.01, l2_leaf_reg=0.001, rsm=1, border_count=64, iterations=1000 \n",
      "- Fold04: depth=8, learning_rate=0.01, l2_leaf_reg=0.001, rsm=1, border_count=64, iterations=1000 \n",
      "+ Fold05: depth=6, learning_rate=0.01, l2_leaf_reg=0.001, rsm=1, border_count=64, iterations=1000 \n",
      "- Fold05: depth=6, learning_rate=0.01, l2_leaf_reg=0.001, rsm=1, border_count=64, iterations=1000 \n",
      "+ Fold05: depth=8, learning_rate=0.01, l2_leaf_reg=0.001, rsm=1, border_count=64, iterations=1000 \n",
      "- Fold05: depth=8, learning_rate=0.01, l2_leaf_reg=0.001, rsm=1, border_count=64, iterations=1000 \n",
      "+ Fold06: depth=6, learning_rate=0.01, l2_leaf_reg=0.001, rsm=1, border_count=64, iterations=1000 \n",
      "- Fold06: depth=6, learning_rate=0.01, l2_leaf_reg=0.001, rsm=1, border_count=64, iterations=1000 \n",
      "+ Fold06: depth=8, learning_rate=0.01, l2_leaf_reg=0.001, rsm=1, border_count=64, iterations=1000 \n",
      "- Fold06: depth=8, learning_rate=0.01, l2_leaf_reg=0.001, rsm=1, border_count=64, iterations=1000 \n",
      "+ Fold07: depth=6, learning_rate=0.01, l2_leaf_reg=0.001, rsm=1, border_count=64, iterations=1000 \n",
      "- Fold07: depth=6, learning_rate=0.01, l2_leaf_reg=0.001, rsm=1, border_count=64, iterations=1000 \n",
      "+ Fold07: depth=8, learning_rate=0.01, l2_leaf_reg=0.001, rsm=1, border_count=64, iterations=1000 \n",
      "- Fold07: depth=8, learning_rate=0.01, l2_leaf_reg=0.001, rsm=1, border_count=64, iterations=1000 \n",
      "+ Fold08: depth=6, learning_rate=0.01, l2_leaf_reg=0.001, rsm=1, border_count=64, iterations=1000 \n",
      "- Fold08: depth=6, learning_rate=0.01, l2_leaf_reg=0.001, rsm=1, border_count=64, iterations=1000 \n",
      "+ Fold08: depth=8, learning_rate=0.01, l2_leaf_reg=0.001, rsm=1, border_count=64, iterations=1000 \n",
      "- Fold08: depth=8, learning_rate=0.01, l2_leaf_reg=0.001, rsm=1, border_count=64, iterations=1000 \n",
      "+ Fold09: depth=6, learning_rate=0.01, l2_leaf_reg=0.001, rsm=1, border_count=64, iterations=1000 \n",
      "- Fold09: depth=6, learning_rate=0.01, l2_leaf_reg=0.001, rsm=1, border_count=64, iterations=1000 \n",
      "+ Fold09: depth=8, learning_rate=0.01, l2_leaf_reg=0.001, rsm=1, border_count=64, iterations=1000 \n",
      "- Fold09: depth=8, learning_rate=0.01, l2_leaf_reg=0.001, rsm=1, border_count=64, iterations=1000 \n",
      "+ Fold10: depth=6, learning_rate=0.01, l2_leaf_reg=0.001, rsm=1, border_count=64, iterations=1000 \n",
      "- Fold10: depth=6, learning_rate=0.01, l2_leaf_reg=0.001, rsm=1, border_count=64, iterations=1000 \n",
      "+ Fold10: depth=8, learning_rate=0.01, l2_leaf_reg=0.001, rsm=1, border_count=64, iterations=1000 \n",
      "- Fold10: depth=8, learning_rate=0.01, l2_leaf_reg=0.001, rsm=1, border_count=64, iterations=1000 \n",
      "Aggregating results\n",
      "Selecting tuning parameters\n",
      "Fitting depth = 8, learning_rate = 0.01, iterations = 1000, l2_leaf_reg = 0.001, rsm = 1, border_count = 64 on full training set\n"
     ]
    }
   ],
   "source": [
    "# Set seed\n",
    "set.seed(42)\n",
    "\n",
    "#Train\n",
    "cat_model <- train(x, y,\n",
    "                   method = catboost.caret,\n",
    "                   logging_level = 'Silent',\n",
    "                   tuneGrid = grid, trControl = ctrl)"
   ]
  },
  {
   "cell_type": "code",
   "execution_count": 36,
   "metadata": {},
   "outputs": [
    {
     "name": "stdout",
     "output_type": "stream",
     "text": [
      "[1] 1.363701\n"
     ]
    }
   ],
   "source": [
    "# Predict on train data\n",
    "y_pred5_tr <- predict(cat_model,d)\n",
    "\n",
    "# Print RMSE\n",
    "print(RMSE(y_pred5_tr,d$y))"
   ]
  },
  {
   "cell_type": "code",
   "execution_count": 37,
   "metadata": {},
   "outputs": [],
   "source": [
    "# Predict on test data\n",
    "y_pred6 <- predict(cat_model,te)\n",
    "\n",
    "# Store result as a data frame\n",
    "results <- data.frame(y_pred6)\n",
    "names(results) <- c(\"SalesInMillions\")\n",
    "\n",
    "# write.table(results, \"Submissions\\\\cat_2.csv\", row.names = F, sep = \",\")"
   ]
  },
  {
   "cell_type": "markdown",
   "metadata": {},
   "source": [
    "#### This generated a score of 1.68011 on the Test data\n",
    "\n",
    "#### For a complete set of models used, please visit the R code"
   ]
  },
  {
   "cell_type": "code",
   "execution_count": null,
   "metadata": {},
   "outputs": [],
   "source": []
  }
 ],
 "metadata": {
  "kernelspec": {
   "display_name": "R",
   "language": "R",
   "name": "ir"
  },
  "language_info": {
   "codemirror_mode": "r",
   "file_extension": ".r",
   "mimetype": "text/x-r-source",
   "name": "R",
   "pygments_lexer": "r",
   "version": "3.6.0"
  }
 },
 "nbformat": 4,
 "nbformat_minor": 2
}
